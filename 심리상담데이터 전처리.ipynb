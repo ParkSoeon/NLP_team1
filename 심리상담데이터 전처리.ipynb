{
 "cells": [
  {
   "cell_type": "markdown",
   "id": "25ed4464-cc38-4ef3-a306-cd58994cf143",
   "metadata": {},
   "source": [
    "## mental_health "
   ]
  },
  {
   "cell_type": "code",
   "execution_count": 1,
   "id": "3f1efd35-f9c8-4d4f-9e29-916454c83ead",
   "metadata": {},
   "outputs": [],
   "source": [
    "import pandas as pd\n",
    "\n",
    "df = pd.read_parquet(\"hf://datasets/youjunhyeok/mental_health_counseling_conversations_ko/data/train-00000-of-00001.parquet\")"
   ]
  },
  {
   "cell_type": "code",
   "execution_count": 2,
   "id": "c6b94b11-a3b0-4042-abf9-993906c789ef",
   "metadata": {},
   "outputs": [
    {
     "data": {
      "text/plain": [
       "(3512, 4)"
      ]
     },
     "execution_count": 2,
     "metadata": {},
     "output_type": "execute_result"
    }
   ],
   "source": [
    "df.shape"
   ]
  },
  {
   "cell_type": "code",
   "execution_count": 3,
   "id": "19f41d38-0442-40ad-9178-2edd9edbc37a",
   "metadata": {},
   "outputs": [
    {
     "data": {
      "text/plain": [
       "Context         0\n",
       "Response        0\n",
       "Context-kor     0\n",
       "Response-kor    0\n",
       "dtype: int64"
      ]
     },
     "execution_count": 3,
     "metadata": {},
     "output_type": "execute_result"
    }
   ],
   "source": [
    "df.isnull().sum()"
   ]
  },
  {
   "cell_type": "code",
   "execution_count": 4,
   "id": "fd7398d0-ee05-4083-bb8b-186e73af3a14",
   "metadata": {},
   "outputs": [],
   "source": [
    "kor_df=df.iloc[:,2:]"
   ]
  },
  {
   "cell_type": "code",
   "execution_count": 5,
   "id": "7ca562bb-7eeb-4818-a4d9-dd32691ecf9b",
   "metadata": {},
   "outputs": [
    {
     "data": {
      "text/html": [
       "<div>\n",
       "<style scoped>\n",
       "    .dataframe tbody tr th:only-of-type {\n",
       "        vertical-align: middle;\n",
       "    }\n",
       "\n",
       "    .dataframe tbody tr th {\n",
       "        vertical-align: top;\n",
       "    }\n",
       "\n",
       "    .dataframe thead th {\n",
       "        text-align: right;\n",
       "    }\n",
       "</style>\n",
       "<table border=\"1\" class=\"dataframe\">\n",
       "  <thead>\n",
       "    <tr style=\"text-align: right;\">\n",
       "      <th></th>\n",
       "      <th>Context-kor</th>\n",
       "      <th>Response-kor</th>\n",
       "    </tr>\n",
       "  </thead>\n",
       "  <tbody>\n",
       "    <tr>\n",
       "      <th>0</th>\n",
       "      <td>저는 제 감정과 저 자신과 관련된 문제를 겪고 있습니다. 거의 잠을 자지 않고, 내...</td>\n",
       "      <td>만약 모든 사람들이 당신을 무가치하다고 생각한다면, 새로운 사람들을 찾아 사귀어야 ...</td>\n",
       "    </tr>\n",
       "    <tr>\n",
       "      <th>1</th>\n",
       "      <td>저는 제 감정과 저 자신과 관련된 문제를 겪고 있습니다. 거의 잠을 자지 않고, 내...</td>\n",
       "      <td>안녕하세요, 질문해 주셔서 감사합니다. 자신이 무가치하다고 느끼는 것은 불행히도 흔...</td>\n",
       "    </tr>\n",
       "    <tr>\n",
       "      <th>2</th>\n",
       "      <td>저는 제 감정과 저 자신과 관련된 문제를 겪고 있습니다. 거의 잠을 자지 않고, 내...</td>\n",
       "      <td>제가 가장 먼저 제안하는 것은 필요한 수면을 충분히 취하는 것입니다. 그렇지 않으면...</td>\n",
       "    </tr>\n",
       "    <tr>\n",
       "      <th>3</th>\n",
       "      <td>저는 제 감정과 저 자신과 관련된 문제를 겪고 있습니다. 거의 잠을 자지 않고, 내...</td>\n",
       "      <td>치료는 우울하고 자신을 무가치하게 느끼는 사람들에게 필수적입니다. 우울감과 자존감 ...</td>\n",
       "    </tr>\n",
       "    <tr>\n",
       "      <th>4</th>\n",
       "      <td>저는 제 감정과 저 자신과 관련된 문제를 겪고 있습니다. 거의 잠을 자지 않고, 내...</td>\n",
       "      <td>먼저 당신이 느끼는 감정이 혼자가 아니라는 것을 알아주셨으면 합니다. 항상 도와줄 ...</td>\n",
       "    </tr>\n",
       "  </tbody>\n",
       "</table>\n",
       "</div>"
      ],
      "text/plain": [
       "                                         Context-kor  \\\n",
       "0  저는 제 감정과 저 자신과 관련된 문제를 겪고 있습니다. 거의 잠을 자지 않고, 내...   \n",
       "1  저는 제 감정과 저 자신과 관련된 문제를 겪고 있습니다. 거의 잠을 자지 않고, 내...   \n",
       "2  저는 제 감정과 저 자신과 관련된 문제를 겪고 있습니다. 거의 잠을 자지 않고, 내...   \n",
       "3  저는 제 감정과 저 자신과 관련된 문제를 겪고 있습니다. 거의 잠을 자지 않고, 내...   \n",
       "4  저는 제 감정과 저 자신과 관련된 문제를 겪고 있습니다. 거의 잠을 자지 않고, 내...   \n",
       "\n",
       "                                        Response-kor  \n",
       "0  만약 모든 사람들이 당신을 무가치하다고 생각한다면, 새로운 사람들을 찾아 사귀어야 ...  \n",
       "1  안녕하세요, 질문해 주셔서 감사합니다. 자신이 무가치하다고 느끼는 것은 불행히도 흔...  \n",
       "2  제가 가장 먼저 제안하는 것은 필요한 수면을 충분히 취하는 것입니다. 그렇지 않으면...  \n",
       "3  치료는 우울하고 자신을 무가치하게 느끼는 사람들에게 필수적입니다. 우울감과 자존감 ...  \n",
       "4  먼저 당신이 느끼는 감정이 혼자가 아니라는 것을 알아주셨으면 합니다. 항상 도와줄 ...  "
      ]
     },
     "execution_count": 5,
     "metadata": {},
     "output_type": "execute_result"
    }
   ],
   "source": [
    "kor_df.head()"
   ]
  },
  {
   "cell_type": "code",
   "execution_count": 6,
   "id": "71fd1260-d991-4c13-8da1-f7a347b1e97b",
   "metadata": {},
   "outputs": [
    {
     "data": {
      "text/plain": [
       "2517"
      ]
     },
     "execution_count": 6,
     "metadata": {},
     "output_type": "execute_result"
    }
   ],
   "source": [
    "kor_df['Context-kor'].duplicated().sum()"
   ]
  },
  {
   "cell_type": "code",
   "execution_count": 7,
   "id": "c1aa0cc9-d842-458b-8590-6ec2d73c61cb",
   "metadata": {},
   "outputs": [
    {
     "data": {
      "text/plain": [
       "995"
      ]
     },
     "execution_count": 7,
     "metadata": {},
     "output_type": "execute_result"
    }
   ],
   "source": [
    "len(kor_df['Context-kor'].value_counts())\n",
    "# 995 개의 질문으로 이루어져 있다. "
   ]
  },
  {
   "cell_type": "code",
   "execution_count": 8,
   "id": "f786e7fd-5701-4006-ba6a-c2d1ae1019ec",
   "metadata": {},
   "outputs": [],
   "source": [
    "kor_df.columns=['context','response']"
   ]
  },
  {
   "cell_type": "code",
   "execution_count": 9,
   "id": "532d5bcb-07a5-4d0e-98b9-bfed016ebc6a",
   "metadata": {},
   "outputs": [
    {
     "data": {
      "text/html": [
       "<div>\n",
       "<style scoped>\n",
       "    .dataframe tbody tr th:only-of-type {\n",
       "        vertical-align: middle;\n",
       "    }\n",
       "\n",
       "    .dataframe tbody tr th {\n",
       "        vertical-align: top;\n",
       "    }\n",
       "\n",
       "    .dataframe thead th {\n",
       "        text-align: right;\n",
       "    }\n",
       "</style>\n",
       "<table border=\"1\" class=\"dataframe\">\n",
       "  <thead>\n",
       "    <tr style=\"text-align: right;\">\n",
       "      <th></th>\n",
       "      <th>context</th>\n",
       "      <th>response</th>\n",
       "    </tr>\n",
       "  </thead>\n",
       "  <tbody>\n",
       "    <tr>\n",
       "      <th>0</th>\n",
       "      <td>저는 제 감정과 저 자신과 관련된 문제를 겪고 있습니다. 거의 잠을 자지 않고, 내...</td>\n",
       "      <td>만약 모든 사람들이 당신을 무가치하다고 생각한다면, 새로운 사람들을 찾아 사귀어야 ...</td>\n",
       "    </tr>\n",
       "    <tr>\n",
       "      <th>1</th>\n",
       "      <td>저는 제 감정과 저 자신과 관련된 문제를 겪고 있습니다. 거의 잠을 자지 않고, 내...</td>\n",
       "      <td>안녕하세요, 질문해 주셔서 감사합니다. 자신이 무가치하다고 느끼는 것은 불행히도 흔...</td>\n",
       "    </tr>\n",
       "    <tr>\n",
       "      <th>2</th>\n",
       "      <td>저는 제 감정과 저 자신과 관련된 문제를 겪고 있습니다. 거의 잠을 자지 않고, 내...</td>\n",
       "      <td>제가 가장 먼저 제안하는 것은 필요한 수면을 충분히 취하는 것입니다. 그렇지 않으면...</td>\n",
       "    </tr>\n",
       "    <tr>\n",
       "      <th>3</th>\n",
       "      <td>저는 제 감정과 저 자신과 관련된 문제를 겪고 있습니다. 거의 잠을 자지 않고, 내...</td>\n",
       "      <td>치료는 우울하고 자신을 무가치하게 느끼는 사람들에게 필수적입니다. 우울감과 자존감 ...</td>\n",
       "    </tr>\n",
       "    <tr>\n",
       "      <th>4</th>\n",
       "      <td>저는 제 감정과 저 자신과 관련된 문제를 겪고 있습니다. 거의 잠을 자지 않고, 내...</td>\n",
       "      <td>먼저 당신이 느끼는 감정이 혼자가 아니라는 것을 알아주셨으면 합니다. 항상 도와줄 ...</td>\n",
       "    </tr>\n",
       "  </tbody>\n",
       "</table>\n",
       "</div>"
      ],
      "text/plain": [
       "                                             context  \\\n",
       "0  저는 제 감정과 저 자신과 관련된 문제를 겪고 있습니다. 거의 잠을 자지 않고, 내...   \n",
       "1  저는 제 감정과 저 자신과 관련된 문제를 겪고 있습니다. 거의 잠을 자지 않고, 내...   \n",
       "2  저는 제 감정과 저 자신과 관련된 문제를 겪고 있습니다. 거의 잠을 자지 않고, 내...   \n",
       "3  저는 제 감정과 저 자신과 관련된 문제를 겪고 있습니다. 거의 잠을 자지 않고, 내...   \n",
       "4  저는 제 감정과 저 자신과 관련된 문제를 겪고 있습니다. 거의 잠을 자지 않고, 내...   \n",
       "\n",
       "                                            response  \n",
       "0  만약 모든 사람들이 당신을 무가치하다고 생각한다면, 새로운 사람들을 찾아 사귀어야 ...  \n",
       "1  안녕하세요, 질문해 주셔서 감사합니다. 자신이 무가치하다고 느끼는 것은 불행히도 흔...  \n",
       "2  제가 가장 먼저 제안하는 것은 필요한 수면을 충분히 취하는 것입니다. 그렇지 않으면...  \n",
       "3  치료는 우울하고 자신을 무가치하게 느끼는 사람들에게 필수적입니다. 우울감과 자존감 ...  \n",
       "4  먼저 당신이 느끼는 감정이 혼자가 아니라는 것을 알아주셨으면 합니다. 항상 도와줄 ...  "
      ]
     },
     "execution_count": 9,
     "metadata": {},
     "output_type": "execute_result"
    }
   ],
   "source": [
    "kor_df.head()"
   ]
  },
  {
   "cell_type": "markdown",
   "id": "eeb9a893-45bf-48dc-bc80-4f9b1d90e920",
   "metadata": {},
   "source": [
    "## 웰니스 대화"
   ]
  },
  {
   "cell_type": "code",
   "execution_count": 10,
   "id": "cd3a40e4-eef3-41ee-8b93-57073d2010f1",
   "metadata": {},
   "outputs": [],
   "source": [
    "df_w=pd.read_excel('data/웰니스_대화.xlsx')\n",
    "df_w2=pd.read_excel('data/웰니스_대화2.xlsx')"
   ]
  },
  {
   "cell_type": "code",
   "execution_count": 11,
   "id": "54cb87ab-3e4a-411a-ad6c-61394971b134",
   "metadata": {},
   "outputs": [
    {
     "data": {
      "text/plain": [
       "Index(['핵심증상', 'intent', 'keyword(임상키워드)', '특이사항', '연관표현', 'utterance',\n",
       "       'utterance(2차) ', 'response(공감)', '임상질문그룹(연세의료원제공)', 'utterance(긍정)',\n",
       "       'utterance(부정)', '긍정에 대한 챗봇 답변', '부정에 대한 챗봇 답변', '추가발화(190917)',\n",
       "       '추가발화 (191031)'],\n",
       "      dtype='object')"
      ]
     },
     "execution_count": 11,
     "metadata": {},
     "output_type": "execute_result"
    }
   ],
   "source": [
    "df_w.columns"
   ]
  },
  {
   "cell_type": "code",
   "execution_count": 12,
   "id": "5f08e039-3025-4d60-9e3a-8d0b08791577",
   "metadata": {},
   "outputs": [
    {
     "data": {
      "text/plain": [
       "(19769, 15)"
      ]
     },
     "execution_count": 12,
     "metadata": {},
     "output_type": "execute_result"
    }
   ],
   "source": [
    "df_w.shape"
   ]
  },
  {
   "cell_type": "code",
   "execution_count": 14,
   "id": "bfc81cf3-43bb-4a35-ac80-916d79fdf356",
   "metadata": {},
   "outputs": [
    {
     "data": {
      "text/plain": [
       "핵심증상               19759\n",
       "intent             19750\n",
       "keyword(임상키워드)     19555\n",
       "특이사항               19736\n",
       "연관표현               19747\n",
       "utterance          15452\n",
       "utterance(2차)         92\n",
       "response(공감)       19695\n",
       "임상질문그룹(연세의료원제공)    19634\n",
       "utterance(긍정)      17069\n",
       "utterance(부정)      17069\n",
       "긍정에 대한 챗봇 답변       19715\n",
       "부정에 대한 챗봇 답변       19715\n",
       "추가발화(190917)       19769\n",
       "추가발화 (191031)      19769\n",
       "dtype: int64"
      ]
     },
     "execution_count": 14,
     "metadata": {},
     "output_type": "execute_result"
    }
   ],
   "source": [
    "df_w.isnull().sum()"
   ]
  },
  {
   "cell_type": "code",
   "execution_count": 15,
   "id": "e36cef3d-f529-420d-995f-86635d93aeaa",
   "metadata": {
    "scrolled": true
   },
   "outputs": [
    {
     "data": {
      "text/html": [
       "<div>\n",
       "<style scoped>\n",
       "    .dataframe tbody tr th:only-of-type {\n",
       "        vertical-align: middle;\n",
       "    }\n",
       "\n",
       "    .dataframe tbody tr th {\n",
       "        vertical-align: top;\n",
       "    }\n",
       "\n",
       "    .dataframe thead th {\n",
       "        text-align: right;\n",
       "    }\n",
       "</style>\n",
       "<table border=\"1\" class=\"dataframe\">\n",
       "  <thead>\n",
       "    <tr style=\"text-align: right;\">\n",
       "      <th></th>\n",
       "      <th>핵심증상</th>\n",
       "      <th>intent</th>\n",
       "      <th>keyword(임상키워드)</th>\n",
       "      <th>특이사항</th>\n",
       "      <th>연관표현</th>\n",
       "      <th>utterance</th>\n",
       "      <th>utterance(2차)</th>\n",
       "      <th>response(공감)</th>\n",
       "      <th>임상질문그룹(연세의료원제공)</th>\n",
       "      <th>utterance(긍정)</th>\n",
       "      <th>utterance(부정)</th>\n",
       "      <th>긍정에 대한 챗봇 답변</th>\n",
       "      <th>부정에 대한 챗봇 답변</th>\n",
       "      <th>추가발화(190917)</th>\n",
       "      <th>추가발화 (191031)</th>\n",
       "    </tr>\n",
       "  </thead>\n",
       "  <tbody>\n",
       "    <tr>\n",
       "      <th>0</th>\n",
       "      <td>지속되는우울한기분(우울감)</td>\n",
       "      <td>정신증상/우울감</td>\n",
       "      <td>우울</td>\n",
       "      <td>NaN</td>\n",
       "      <td>머리가 짓눌러지는 느낌/머리가 맑지 않다/침울하면서 잠도 못 자다/후회가 많고 침울...</td>\n",
       "      <td>우울해</td>\n",
       "      <td>임신해서 우울해</td>\n",
       "      <td>기분이 우울하시군요. 00님에게 스트레스 받는 일이 있었던 건 아닌지 걱정스러워요.</td>\n",
       "      <td>거의 매일, 하루 중 대부분 시간을 우울한 기분으로 있거나 가라앉았던 적이 있나요?</td>\n",
       "      <td>응</td>\n",
       "      <td>아니</td>\n",
       "      <td>저런… (우는 이모티콘) 기분이 나아지지 않는 상태군요.</td>\n",
       "      <td>그렇군요. 기분이 계속 처지신다면 편안한 음악을 한번 들어보는 것도 좋을 것 같아요.</td>\n",
       "      <td>NaN</td>\n",
       "      <td>NaN</td>\n",
       "    </tr>\n",
       "    <tr>\n",
       "      <th>1</th>\n",
       "      <td>NaN</td>\n",
       "      <td>NaN</td>\n",
       "      <td>NaN</td>\n",
       "      <td>NaN</td>\n",
       "      <td>NaN</td>\n",
       "      <td>너무 우울해</td>\n",
       "      <td>아이 가지고 나서 우울해</td>\n",
       "      <td>마음이 우울해서 힘드셨군요. 00님의 소식이 궁금했는데 마침 저를 잘 찾아주셨네요.</td>\n",
       "      <td>NaN</td>\n",
       "      <td>어</td>\n",
       "      <td>아닌데?</td>\n",
       "      <td>힘든 상황이시군요. 저랑 더 얘기를 나눠볼까요?</td>\n",
       "      <td>그랬군요. 또 기분이 안 좋아지면 언제든 저에게 이야기해주세요.</td>\n",
       "      <td>NaN</td>\n",
       "      <td>NaN</td>\n",
       "    </tr>\n",
       "    <tr>\n",
       "      <th>2</th>\n",
       "      <td>NaN</td>\n",
       "      <td>NaN</td>\n",
       "      <td>NaN</td>\n",
       "      <td>NaN</td>\n",
       "      <td>NaN</td>\n",
       "      <td>우울해죽겠어</td>\n",
       "      <td>아이 가졌는데 기분 하나도 안 좋고 울적해</td>\n",
       "      <td>00님이 울적하시다니 저도 마음이 안 좋아요.</td>\n",
       "      <td>NaN</td>\n",
       "      <td>엉</td>\n",
       "      <td>노</td>\n",
       "      <td>한번 가라앉은 기분을 다시 돌리기는 참 어려운 것 같아요. 저와 계속 얘기해봐요.</td>\n",
       "      <td>그런 증상은 없으셨군요. 00님의 머릿속에 낀 먹구름이 얼른 걷혔으면 좋겠어요.</td>\n",
       "      <td>NaN</td>\n",
       "      <td>NaN</td>\n",
       "    </tr>\n",
       "    <tr>\n",
       "      <th>3</th>\n",
       "      <td>NaN</td>\n",
       "      <td>NaN</td>\n",
       "      <td>NaN</td>\n",
       "      <td>NaN</td>\n",
       "      <td>NaN</td>\n",
       "      <td>기분이 우울해</td>\n",
       "      <td>임신했는데 남편이 하나도 안 챙겨줘서 우울하다</td>\n",
       "      <td>얼굴에서 00님의 기분이 가라앉은 것이 느껴져요. 큰일이 있으신 건 아니었으면 좋겠어요.</td>\n",
       "      <td>NaN</td>\n",
       "      <td>예스</td>\n",
       "      <td>아니거든</td>\n",
       "      <td>NaN</td>\n",
       "      <td>NaN</td>\n",
       "      <td>NaN</td>\n",
       "      <td>NaN</td>\n",
       "    </tr>\n",
       "    <tr>\n",
       "      <th>4</th>\n",
       "      <td>NaN</td>\n",
       "      <td>NaN</td>\n",
       "      <td>NaN</td>\n",
       "      <td>NaN</td>\n",
       "      <td>NaN</td>\n",
       "      <td>우울모드임</td>\n",
       "      <td>진단 결과 안 좋게 나올 것 같아서 우울해</td>\n",
       "      <td>NaN</td>\n",
       "      <td>NaN</td>\n",
       "      <td>네</td>\n",
       "      <td>아니야</td>\n",
       "      <td>NaN</td>\n",
       "      <td>NaN</td>\n",
       "      <td>NaN</td>\n",
       "      <td>NaN</td>\n",
       "    </tr>\n",
       "  </tbody>\n",
       "</table>\n",
       "</div>"
      ],
      "text/plain": [
       "             핵심증상    intent keyword(임상키워드) 특이사항  \\\n",
       "0  지속되는우울한기분(우울감)  정신증상/우울감             우울  NaN   \n",
       "1             NaN       NaN            NaN  NaN   \n",
       "2             NaN       NaN            NaN  NaN   \n",
       "3             NaN       NaN            NaN  NaN   \n",
       "4             NaN       NaN            NaN  NaN   \n",
       "\n",
       "                                                연관표현 utterance  \\\n",
       "0  머리가 짓눌러지는 느낌/머리가 맑지 않다/침울하면서 잠도 못 자다/후회가 많고 침울...       우울해   \n",
       "1                                                NaN    너무 우울해   \n",
       "2                                                NaN    우울해죽겠어   \n",
       "3                                                NaN   기분이 우울해   \n",
       "4                                                NaN     우울모드임   \n",
       "\n",
       "              utterance(2차)   \\\n",
       "0                   임신해서 우울해   \n",
       "1              아이 가지고 나서 우울해   \n",
       "2    아이 가졌는데 기분 하나도 안 좋고 울적해   \n",
       "3  임신했는데 남편이 하나도 안 챙겨줘서 우울하다   \n",
       "4   진단 결과 안 좋게 나올 것 같아서 우울해    \n",
       "\n",
       "                                        response(공감)  \\\n",
       "0     기분이 우울하시군요. 00님에게 스트레스 받는 일이 있었던 건 아닌지 걱정스러워요.   \n",
       "1     마음이 우울해서 힘드셨군요. 00님의 소식이 궁금했는데 마침 저를 잘 찾아주셨네요.   \n",
       "2                          00님이 울적하시다니 저도 마음이 안 좋아요.   \n",
       "3  얼굴에서 00님의 기분이 가라앉은 것이 느껴져요. 큰일이 있으신 건 아니었으면 좋겠어요.   \n",
       "4                                                NaN   \n",
       "\n",
       "                                  임상질문그룹(연세의료원제공) utterance(긍정) utterance(부정)  \\\n",
       "0  거의 매일, 하루 중 대부분 시간을 우울한 기분으로 있거나 가라앉았던 적이 있나요?             응            아니   \n",
       "1                                             NaN             어          아닌데?   \n",
       "2                                             NaN             엉             노   \n",
       "3                                             NaN            예스          아니거든   \n",
       "4                                             NaN             네           아니야   \n",
       "\n",
       "                                    긍정에 대한 챗봇 답변  \\\n",
       "0              저런… (우는 이모티콘) 기분이 나아지지 않는 상태군요.     \n",
       "1                     힘든 상황이시군요. 저랑 더 얘기를 나눠볼까요?   \n",
       "2  한번 가라앉은 기분을 다시 돌리기는 참 어려운 것 같아요. 저와 계속 얘기해봐요.   \n",
       "3                                            NaN   \n",
       "4                                            NaN   \n",
       "\n",
       "                                      부정에 대한 챗봇 답변  추가발화(190917)  \\\n",
       "0  그렇군요. 기분이 계속 처지신다면 편안한 음악을 한번 들어보는 것도 좋을 것 같아요.           NaN   \n",
       "1              그랬군요. 또 기분이 안 좋아지면 언제든 저에게 이야기해주세요.           NaN   \n",
       "2     그런 증상은 없으셨군요. 00님의 머릿속에 낀 먹구름이 얼른 걷혔으면 좋겠어요.           NaN   \n",
       "3                                              NaN           NaN   \n",
       "4                                              NaN           NaN   \n",
       "\n",
       "   추가발화 (191031)  \n",
       "0            NaN  \n",
       "1            NaN  \n",
       "2            NaN  \n",
       "3            NaN  \n",
       "4            NaN  "
      ]
     },
     "execution_count": 15,
     "metadata": {},
     "output_type": "execute_result"
    }
   ],
   "source": [
    "df_w.head()"
   ]
  },
  {
   "cell_type": "code",
   "execution_count": 13,
   "id": "1acb6be4-9f11-409f-989c-d66bdd5bcad8",
   "metadata": {
    "scrolled": true
   },
   "outputs": [
    {
     "data": {
      "text/html": [
       "<div>\n",
       "<style scoped>\n",
       "    .dataframe tbody tr th:only-of-type {\n",
       "        vertical-align: middle;\n",
       "    }\n",
       "\n",
       "    .dataframe tbody tr th {\n",
       "        vertical-align: top;\n",
       "    }\n",
       "\n",
       "    .dataframe thead th {\n",
       "        text-align: right;\n",
       "    }\n",
       "</style>\n",
       "<table border=\"1\" class=\"dataframe\">\n",
       "  <thead>\n",
       "    <tr style=\"text-align: right;\">\n",
       "      <th></th>\n",
       "      <th>긍정에 대한 챗봇 답변</th>\n",
       "      <th>부정에 대한 챗봇 답변</th>\n",
       "    </tr>\n",
       "  </thead>\n",
       "  <tbody>\n",
       "    <tr>\n",
       "      <th>0</th>\n",
       "      <td>저런… (우는 이모티콘) 기분이 나아지지 않는 상태군요.</td>\n",
       "      <td>그렇군요. 기분이 계속 처지신다면 편안한 음악을 한번 들어보는 것도 좋을 것 같아요.</td>\n",
       "    </tr>\n",
       "    <tr>\n",
       "      <th>1</th>\n",
       "      <td>힘든 상황이시군요. 저랑 더 얘기를 나눠볼까요?</td>\n",
       "      <td>그랬군요. 또 기분이 안 좋아지면 언제든 저에게 이야기해주세요.</td>\n",
       "    </tr>\n",
       "    <tr>\n",
       "      <th>2</th>\n",
       "      <td>한번 가라앉은 기분을 다시 돌리기는 참 어려운 것 같아요. 저와 계속 얘기해봐요.</td>\n",
       "      <td>그런 증상은 없으셨군요. 00님의 머릿속에 낀 먹구름이 얼른 걷혔으면 좋겠어요.</td>\n",
       "    </tr>\n",
       "    <tr>\n",
       "      <th>3</th>\n",
       "      <td>NaN</td>\n",
       "      <td>NaN</td>\n",
       "    </tr>\n",
       "    <tr>\n",
       "      <th>4</th>\n",
       "      <td>NaN</td>\n",
       "      <td>NaN</td>\n",
       "    </tr>\n",
       "    <tr>\n",
       "      <th>...</th>\n",
       "      <td>...</td>\n",
       "      <td>...</td>\n",
       "    </tr>\n",
       "    <tr>\n",
       "      <th>19764</th>\n",
       "      <td>NaN</td>\n",
       "      <td>NaN</td>\n",
       "    </tr>\n",
       "    <tr>\n",
       "      <th>19765</th>\n",
       "      <td>NaN</td>\n",
       "      <td>NaN</td>\n",
       "    </tr>\n",
       "    <tr>\n",
       "      <th>19766</th>\n",
       "      <td>NaN</td>\n",
       "      <td>NaN</td>\n",
       "    </tr>\n",
       "    <tr>\n",
       "      <th>19767</th>\n",
       "      <td>NaN</td>\n",
       "      <td>NaN</td>\n",
       "    </tr>\n",
       "    <tr>\n",
       "      <th>19768</th>\n",
       "      <td>NaN</td>\n",
       "      <td>NaN</td>\n",
       "    </tr>\n",
       "  </tbody>\n",
       "</table>\n",
       "<p>19769 rows × 2 columns</p>\n",
       "</div>"
      ],
      "text/plain": [
       "                                        긍정에 대한 챗봇 답변  \\\n",
       "0                  저런… (우는 이모티콘) 기분이 나아지지 않는 상태군요.     \n",
       "1                         힘든 상황이시군요. 저랑 더 얘기를 나눠볼까요?   \n",
       "2      한번 가라앉은 기분을 다시 돌리기는 참 어려운 것 같아요. 저와 계속 얘기해봐요.   \n",
       "3                                                NaN   \n",
       "4                                                NaN   \n",
       "...                                              ...   \n",
       "19764                                            NaN   \n",
       "19765                                            NaN   \n",
       "19766                                            NaN   \n",
       "19767                                            NaN   \n",
       "19768                                            NaN   \n",
       "\n",
       "                                          부정에 대한 챗봇 답변  \n",
       "0      그렇군요. 기분이 계속 처지신다면 편안한 음악을 한번 들어보는 것도 좋을 것 같아요.  \n",
       "1                  그랬군요. 또 기분이 안 좋아지면 언제든 저에게 이야기해주세요.  \n",
       "2         그런 증상은 없으셨군요. 00님의 머릿속에 낀 먹구름이 얼른 걷혔으면 좋겠어요.  \n",
       "3                                                  NaN  \n",
       "4                                                  NaN  \n",
       "...                                                ...  \n",
       "19764                                              NaN  \n",
       "19765                                              NaN  \n",
       "19766                                              NaN  \n",
       "19767                                              NaN  \n",
       "19768                                              NaN  \n",
       "\n",
       "[19769 rows x 2 columns]"
      ]
     },
     "execution_count": 13,
     "metadata": {},
     "output_type": "execute_result"
    }
   ],
   "source": [
    "df_w.iloc[:,11:13]"
   ]
  },
  {
   "cell_type": "code",
   "execution_count": 22,
   "id": "49e914be-72f2-47dd-abd7-b9f930e20ef8",
   "metadata": {
    "scrolled": true
   },
   "outputs": [
    {
     "data": {
      "text/plain": [
       "핵심증상\n",
       "지속되는우울한기분(우울감)      1\n",
       "흥미나 즐거움의 감소(무기력)    1\n",
       "식욕-체중               1\n",
       "수면                  1\n",
       "초조함                 1\n",
       "피로/활력상실             1\n",
       "무가치함/죄책감            1\n",
       "사고력/집중력감소           1\n",
       "자존감저하               1\n",
       "절망감                 1\n",
       "Name: count, dtype: int64"
      ]
     },
     "execution_count": 22,
     "metadata": {},
     "output_type": "execute_result"
    }
   ],
   "source": [
    "df_w['핵심증상'].value_counts()\n",
    "# 10가지 증상에 대한 대화가 이루어지고 있다. "
   ]
  },
  {
   "cell_type": "code",
   "execution_count": 28,
   "id": "03e11752-1933-4381-b8e0-1af766d805f0",
   "metadata": {
    "scrolled": true
   },
   "outputs": [
    {
     "data": {
      "text/plain": [
       "['수술은 잘 됐다고 하고, 지금은 퇴원해서 집인데, 밤에 불안해서 잠이 안 와요.',\n",
       " '잠을 못잘 때면 또 나쁜일이 생길까봐 무섭고 불안해요.',\n",
       " '평소에 불안감이 심한 편이예요. 요즘은 부쩍 잠도 안 오고 밥맛도 없고 살도 많이 빠졌어요.',\n",
       " '몸에 열도 많이 나고 자꾸 불안하니까 잠도 안 오더라고요.',\n",
       " '그래도 잠못자고 불안한건 여전해요.',\n",
       " '불안함에 항상 시달리니까 잠도 못잤어요.',\n",
       " '불안하고 초조해서 잠이 안 와.',\n",
       " '너무 불안하니까 밤만 되면 잠이 안 오고 너무 초조해.',\n",
       " '불안해서 그런지 요즘 잠도 잘 안 와서 너무 힘들어요.']"
      ]
     },
     "execution_count": 28,
     "metadata": {},
     "output_type": "execute_result"
    }
   ],
   "source": [
    "df_w['utterance(2차) '].to_list()[19760:]"
   ]
  },
  {
   "cell_type": "markdown",
   "id": "329d610b-71ec-4b32-a144-92506f49e50c",
   "metadata": {},
   "source": [
    "- 웰니스2 데이터는 대화가 이루어지지 않고 있기 때문에 사용할 수 없다고 판단 "
   ]
  },
  {
   "cell_type": "code",
   "execution_count": 16,
   "id": "6e113501-07d1-4045-9f0b-f4a21a5dd157",
   "metadata": {},
   "outputs": [
    {
     "data": {
      "text/plain": [
       "(5231, 3)"
      ]
     },
     "execution_count": 16,
     "metadata": {},
     "output_type": "execute_result"
    }
   ],
   "source": [
    "df_w2.shape"
   ]
  },
  {
   "cell_type": "code",
   "execution_count": 17,
   "id": "ce0e6f03-b197-40e8-a238-92656259b280",
   "metadata": {},
   "outputs": [
    {
     "data": {
      "text/html": [
       "<div>\n",
       "<style scoped>\n",
       "    .dataframe tbody tr th:only-of-type {\n",
       "        vertical-align: middle;\n",
       "    }\n",
       "\n",
       "    .dataframe tbody tr th {\n",
       "        vertical-align: top;\n",
       "    }\n",
       "\n",
       "    .dataframe thead th {\n",
       "        text-align: right;\n",
       "    }\n",
       "</style>\n",
       "<table border=\"1\" class=\"dataframe\">\n",
       "  <thead>\n",
       "    <tr style=\"text-align: right;\">\n",
       "      <th></th>\n",
       "      <th>구분</th>\n",
       "      <th>유저</th>\n",
       "      <th>챗봇</th>\n",
       "    </tr>\n",
       "  </thead>\n",
       "  <tbody>\n",
       "    <tr>\n",
       "      <th>0</th>\n",
       "      <td>감정/감정조절이상</td>\n",
       "      <td>제 감정이 이상해진 것 같아요. 남편만 보면 화가 치밀어 오르고 감정 조절이 안되요.</td>\n",
       "      <td>감정이 조절이 안 될 때만큼 힘들 때는 없는 거 같아요.</td>\n",
       "    </tr>\n",
       "    <tr>\n",
       "      <th>1</th>\n",
       "      <td>감정/감정조절이상</td>\n",
       "      <td>더 이상 내 감정을 내가 컨트롤 못 하겠어.</td>\n",
       "      <td>저도 그 기분 이해해요. 많이 힘드시죠?</td>\n",
       "    </tr>\n",
       "    <tr>\n",
       "      <th>2</th>\n",
       "      <td>감정/감정조절이상</td>\n",
       "      <td>하루종일 오르락내리락 롤러코스터 타는 기분이에요.</td>\n",
       "      <td>그럴 때는 밥은 잘 먹었는지, 잠은 잘 잤는지 체크해보는 것도 좋아요.</td>\n",
       "    </tr>\n",
       "    <tr>\n",
       "      <th>3</th>\n",
       "      <td>감정/감정조절이상</td>\n",
       "      <td>꼭 롤러코스터 타는 것 같아요.</td>\n",
       "      <td>NaN</td>\n",
       "    </tr>\n",
       "    <tr>\n",
       "      <th>4</th>\n",
       "      <td>감정/감정조절이상</td>\n",
       "      <td>롤러코스터 타는 것처럼 기분이 왔다 갔다 해요.</td>\n",
       "      <td>NaN</td>\n",
       "    </tr>\n",
       "  </tbody>\n",
       "</table>\n",
       "</div>"
      ],
      "text/plain": [
       "          구분                                               유저  \\\n",
       "0  감정/감정조절이상  제 감정이 이상해진 것 같아요. 남편만 보면 화가 치밀어 오르고 감정 조절이 안되요.   \n",
       "1  감정/감정조절이상                         더 이상 내 감정을 내가 컨트롤 못 하겠어.   \n",
       "2  감정/감정조절이상                      하루종일 오르락내리락 롤러코스터 타는 기분이에요.   \n",
       "3  감정/감정조절이상                                꼭 롤러코스터 타는 것 같아요.   \n",
       "4  감정/감정조절이상                       롤러코스터 타는 것처럼 기분이 왔다 갔다 해요.   \n",
       "\n",
       "                                        챗봇  \n",
       "0          감정이 조절이 안 될 때만큼 힘들 때는 없는 거 같아요.  \n",
       "1                   저도 그 기분 이해해요. 많이 힘드시죠?  \n",
       "2  그럴 때는 밥은 잘 먹었는지, 잠은 잘 잤는지 체크해보는 것도 좋아요.  \n",
       "3                                      NaN  \n",
       "4                                      NaN  "
      ]
     },
     "execution_count": 17,
     "metadata": {},
     "output_type": "execute_result"
    }
   ],
   "source": [
    "df_w2.head()\n"
   ]
  },
  {
   "cell_type": "code",
   "execution_count": 18,
   "id": "3e8ba53b-a6b3-4711-beb7-126b260c5b66",
   "metadata": {},
   "outputs": [
    {
     "data": {
      "text/plain": [
       "구분       0\n",
       "유저       0\n",
       "챗봇    4197\n",
       "dtype: int64"
      ]
     },
     "execution_count": 18,
     "metadata": {},
     "output_type": "execute_result"
    }
   ],
   "source": [
    "df_w2.isnull().sum()"
   ]
  },
  {
   "cell_type": "code",
   "execution_count": 19,
   "id": "5fcbefed-df59-4541-bf13-399cc4148628",
   "metadata": {},
   "outputs": [],
   "source": [
    "df_w2.dropna(inplace=True)"
   ]
  },
  {
   "cell_type": "code",
   "execution_count": 20,
   "id": "c8b15ec6-ad79-47df-a5fb-9a246ba01f4e",
   "metadata": {},
   "outputs": [
    {
     "data": {
      "text/plain": [
       "(1034, 3)"
      ]
     },
     "execution_count": 20,
     "metadata": {},
     "output_type": "execute_result"
    }
   ],
   "source": [
    "df_w2.shape"
   ]
  },
  {
   "cell_type": "code",
   "execution_count": 21,
   "id": "bd7e3435-fe77-4ca6-845f-443fa15d38db",
   "metadata": {},
   "outputs": [
    {
     "data": {
      "text/plain": [
       "355"
      ]
     },
     "execution_count": 21,
     "metadata": {},
     "output_type": "execute_result"
    }
   ],
   "source": [
    "len(df_w2['구분'].value_counts())\n",
    "# 355개 대화주제 "
   ]
  },
  {
   "cell_type": "code",
   "execution_count": 22,
   "id": "4bf895cb-c666-4f60-b0a6-8d3ad4f2a01b",
   "metadata": {},
   "outputs": [],
   "source": [
    "df_w3=df_w2.iloc[:,1:]"
   ]
  },
  {
   "cell_type": "code",
   "execution_count": 23,
   "id": "5356ddc0-1cf2-448c-b1dd-f20a0a7e717e",
   "metadata": {},
   "outputs": [],
   "source": [
    "df_w3.columns=['context','response']"
   ]
  },
  {
   "cell_type": "code",
   "execution_count": 24,
   "id": "4330e96e-feaa-4753-a076-014d4329b9ea",
   "metadata": {},
   "outputs": [
    {
     "data": {
      "text/html": [
       "<div>\n",
       "<style scoped>\n",
       "    .dataframe tbody tr th:only-of-type {\n",
       "        vertical-align: middle;\n",
       "    }\n",
       "\n",
       "    .dataframe tbody tr th {\n",
       "        vertical-align: top;\n",
       "    }\n",
       "\n",
       "    .dataframe thead th {\n",
       "        text-align: right;\n",
       "    }\n",
       "</style>\n",
       "<table border=\"1\" class=\"dataframe\">\n",
       "  <thead>\n",
       "    <tr style=\"text-align: right;\">\n",
       "      <th></th>\n",
       "      <th>context</th>\n",
       "      <th>response</th>\n",
       "    </tr>\n",
       "  </thead>\n",
       "  <tbody>\n",
       "    <tr>\n",
       "      <th>0</th>\n",
       "      <td>제 감정이 이상해진 것 같아요. 남편만 보면 화가 치밀어 오르고 감정 조절이 안되요.</td>\n",
       "      <td>감정이 조절이 안 될 때만큼 힘들 때는 없는 거 같아요.</td>\n",
       "    </tr>\n",
       "    <tr>\n",
       "      <th>1</th>\n",
       "      <td>더 이상 내 감정을 내가 컨트롤 못 하겠어.</td>\n",
       "      <td>저도 그 기분 이해해요. 많이 힘드시죠?</td>\n",
       "    </tr>\n",
       "    <tr>\n",
       "      <th>2</th>\n",
       "      <td>하루종일 오르락내리락 롤러코스터 타는 기분이에요.</td>\n",
       "      <td>그럴 때는 밥은 잘 먹었는지, 잠은 잘 잤는지 체크해보는 것도 좋아요.</td>\n",
       "    </tr>\n",
       "    <tr>\n",
       "      <th>15</th>\n",
       "      <td>평소 다른 일을 할 때도 비슷해요. 생각한대로 안되면 화가 나고…그런 상황이 지속되...</td>\n",
       "      <td>화가 폭발할 것 같을 때는 그 자리를 피하는 것도 좋은 방법이라고 생각해요.</td>\n",
       "    </tr>\n",
       "    <tr>\n",
       "      <th>16</th>\n",
       "      <td>예전보다 화내는 게 과격해진 거 같아.</td>\n",
       "      <td>정말 힘드시겠어요. 화는 남에게도 스스로에게도 상처를 주잖아요.</td>\n",
       "    </tr>\n",
       "  </tbody>\n",
       "</table>\n",
       "</div>"
      ],
      "text/plain": [
       "                                              context  \\\n",
       "0     제 감정이 이상해진 것 같아요. 남편만 보면 화가 치밀어 오르고 감정 조절이 안되요.   \n",
       "1                            더 이상 내 감정을 내가 컨트롤 못 하겠어.   \n",
       "2                         하루종일 오르락내리락 롤러코스터 타는 기분이에요.   \n",
       "15  평소 다른 일을 할 때도 비슷해요. 생각한대로 안되면 화가 나고…그런 상황이 지속되...   \n",
       "16                              예전보다 화내는 게 과격해진 거 같아.   \n",
       "\n",
       "                                      response  \n",
       "0              감정이 조절이 안 될 때만큼 힘들 때는 없는 거 같아요.  \n",
       "1                       저도 그 기분 이해해요. 많이 힘드시죠?  \n",
       "2      그럴 때는 밥은 잘 먹었는지, 잠은 잘 잤는지 체크해보는 것도 좋아요.  \n",
       "15  화가 폭발할 것 같을 때는 그 자리를 피하는 것도 좋은 방법이라고 생각해요.  \n",
       "16         정말 힘드시겠어요. 화는 남에게도 스스로에게도 상처를 주잖아요.  "
      ]
     },
     "execution_count": 24,
     "metadata": {},
     "output_type": "execute_result"
    }
   ],
   "source": [
    "df_w3.head()"
   ]
  },
  {
   "cell_type": "markdown",
   "id": "a60900ec-8fbc-4801-b204-a966cff546d4",
   "metadata": {},
   "source": [
    "## 데이터 병합 후 전처리 for transformer"
   ]
  },
  {
   "cell_type": "code",
   "execution_count": 25,
   "id": "c44efd6f-7fb4-4a8a-8d62-71221e587638",
   "metadata": {},
   "outputs": [],
   "source": [
    "import pandas as pd\n",
    "import numpy as np\n",
    "import matplotlib.pyplot as plt\n",
    "import re\n",
    "import urllib.request\n",
    "import time\n",
    "import tensorflow_datasets as tfds\n",
    "import tensorflow as tf"
   ]
  },
  {
   "cell_type": "code",
   "execution_count": 26,
   "id": "12bfba8e-20d5-4ecb-841a-dd46de76cb4b",
   "metadata": {},
   "outputs": [
    {
     "data": {
      "text/html": [
       "<div>\n",
       "<style scoped>\n",
       "    .dataframe tbody tr th:only-of-type {\n",
       "        vertical-align: middle;\n",
       "    }\n",
       "\n",
       "    .dataframe tbody tr th {\n",
       "        vertical-align: top;\n",
       "    }\n",
       "\n",
       "    .dataframe thead th {\n",
       "        text-align: right;\n",
       "    }\n",
       "</style>\n",
       "<table border=\"1\" class=\"dataframe\">\n",
       "  <thead>\n",
       "    <tr style=\"text-align: right;\">\n",
       "      <th></th>\n",
       "      <th>context</th>\n",
       "      <th>response</th>\n",
       "    </tr>\n",
       "  </thead>\n",
       "  <tbody>\n",
       "    <tr>\n",
       "      <th>0</th>\n",
       "      <td>저는 제 감정과 저 자신과 관련된 문제를 겪고 있습니다. 거의 잠을 자지 않고, 내...</td>\n",
       "      <td>만약 모든 사람들이 당신을 무가치하다고 생각한다면, 새로운 사람들을 찾아 사귀어야 ...</td>\n",
       "    </tr>\n",
       "    <tr>\n",
       "      <th>1</th>\n",
       "      <td>저는 제 감정과 저 자신과 관련된 문제를 겪고 있습니다. 거의 잠을 자지 않고, 내...</td>\n",
       "      <td>안녕하세요, 질문해 주셔서 감사합니다. 자신이 무가치하다고 느끼는 것은 불행히도 흔...</td>\n",
       "    </tr>\n",
       "    <tr>\n",
       "      <th>2</th>\n",
       "      <td>저는 제 감정과 저 자신과 관련된 문제를 겪고 있습니다. 거의 잠을 자지 않고, 내...</td>\n",
       "      <td>제가 가장 먼저 제안하는 것은 필요한 수면을 충분히 취하는 것입니다. 그렇지 않으면...</td>\n",
       "    </tr>\n",
       "    <tr>\n",
       "      <th>3</th>\n",
       "      <td>저는 제 감정과 저 자신과 관련된 문제를 겪고 있습니다. 거의 잠을 자지 않고, 내...</td>\n",
       "      <td>치료는 우울하고 자신을 무가치하게 느끼는 사람들에게 필수적입니다. 우울감과 자존감 ...</td>\n",
       "    </tr>\n",
       "    <tr>\n",
       "      <th>4</th>\n",
       "      <td>저는 제 감정과 저 자신과 관련된 문제를 겪고 있습니다. 거의 잠을 자지 않고, 내...</td>\n",
       "      <td>먼저 당신이 느끼는 감정이 혼자가 아니라는 것을 알아주셨으면 합니다. 항상 도와줄 ...</td>\n",
       "    </tr>\n",
       "  </tbody>\n",
       "</table>\n",
       "</div>"
      ],
      "text/plain": [
       "                                             context  \\\n",
       "0  저는 제 감정과 저 자신과 관련된 문제를 겪고 있습니다. 거의 잠을 자지 않고, 내...   \n",
       "1  저는 제 감정과 저 자신과 관련된 문제를 겪고 있습니다. 거의 잠을 자지 않고, 내...   \n",
       "2  저는 제 감정과 저 자신과 관련된 문제를 겪고 있습니다. 거의 잠을 자지 않고, 내...   \n",
       "3  저는 제 감정과 저 자신과 관련된 문제를 겪고 있습니다. 거의 잠을 자지 않고, 내...   \n",
       "4  저는 제 감정과 저 자신과 관련된 문제를 겪고 있습니다. 거의 잠을 자지 않고, 내...   \n",
       "\n",
       "                                            response  \n",
       "0  만약 모든 사람들이 당신을 무가치하다고 생각한다면, 새로운 사람들을 찾아 사귀어야 ...  \n",
       "1  안녕하세요, 질문해 주셔서 감사합니다. 자신이 무가치하다고 느끼는 것은 불행히도 흔...  \n",
       "2  제가 가장 먼저 제안하는 것은 필요한 수면을 충분히 취하는 것입니다. 그렇지 않으면...  \n",
       "3  치료는 우울하고 자신을 무가치하게 느끼는 사람들에게 필수적입니다. 우울감과 자존감 ...  \n",
       "4  먼저 당신이 느끼는 감정이 혼자가 아니라는 것을 알아주셨으면 합니다. 항상 도와줄 ...  "
      ]
     },
     "execution_count": 26,
     "metadata": {},
     "output_type": "execute_result"
    }
   ],
   "source": [
    "kor_df.head()"
   ]
  },
  {
   "cell_type": "code",
   "execution_count": 29,
   "id": "9f753e3d-644e-421f-ae91-954ecc39b706",
   "metadata": {},
   "outputs": [
    {
     "data": {
      "text/plain": [
       "(4546, 2)"
      ]
     },
     "execution_count": 29,
     "metadata": {},
     "output_type": "execute_result"
    }
   ],
   "source": [
    "result_df = pd.concat([df_w3, kor_df], axis=0, ignore_index=True)\n",
    "result_df.shape"
   ]
  },
  {
   "cell_type": "markdown",
   "id": "d74bb3ec-5755-4cad-87f2-43d9801ce12a",
   "metadata": {},
   "source": [
    "### 최종 튜닝 데이터- 심리 상담 데이터"
   ]
  },
  {
   "cell_type": "code",
   "execution_count": 33,
   "id": "45cee16b-9f18-4580-a57d-cea5e968d61c",
   "metadata": {},
   "outputs": [],
   "source": [
    "\n",
    "result_df.to_csv('mind_conversation.csv',index=False)"
   ]
  },
  {
   "cell_type": "markdown",
   "id": "0b1a4b5c-22a3-4650-9565-1861cac97ea7",
   "metadata": {},
   "source": [
    "### 공백 추가하여 문자 구분 "
   ]
  },
  {
   "cell_type": "code",
   "execution_count": 75,
   "id": "766419e1-041f-4694-a532-2acc4cdddb89",
   "metadata": {},
   "outputs": [],
   "source": [
    "questions = []\n",
    "for sentence in result_df['context']:\n",
    "    # 구두점에 대해서 띄어쓰기\n",
    "    # ex) 12시 땡! -> 12시 땡 !\n",
    "    sentence = re.sub(r\"([?.!,])\", r\" \\1 \", sentence)\n",
    "    sentence = sentence.strip()\n",
    "    questions.append(sentence)"
   ]
  },
  {
   "cell_type": "code",
   "execution_count": 76,
   "id": "87368989-248d-4313-adad-992a03ec8abd",
   "metadata": {},
   "outputs": [],
   "source": [
    "answers = []\n",
    "for sentence in result_df['response']:\n",
    "    # 구두점에 대해서 띄어쓰기\n",
    "    # ex) 12시 땡! -> 12시 땡 !\n",
    "    sentence = re.sub(r\"([?.!,])\", r\" \\1 \", sentence)\n",
    "    sentence = sentence.strip()\n",
    "    answers.append(sentence)\n"
   ]
  },
  {
   "cell_type": "markdown",
   "id": "ed09d648-b3b4-4c90-b840-3d41c770a429",
   "metadata": {},
   "source": [
    "### 단어장 생성 "
   ]
  },
  {
   "cell_type": "code",
   "execution_count": 77,
   "id": "7e42d8e0-1f88-41a4-8bbb-abc2cad82be9",
   "metadata": {},
   "outputs": [],
   "source": [
    "# 서브워드텍스트인코더를 사용하여 질문, 답변 데이터로부터 단어 집합(Vocabulary) 생성\n",
    "tokenizer = tfds.deprecated.text.SubwordTextEncoder.build_from_corpus(\n",
    "    questions + answers, target_vocab_size=2**13)\n"
   ]
  },
  {
   "cell_type": "code",
   "execution_count": 78,
   "id": "601214b5-40c3-470b-8c68-e1dfd932f57a",
   "metadata": {},
   "outputs": [],
   "source": [
    "# 디코더의 문장 생성 과정에서 사용할 시작 토큰과 종료 토큰에 대한 정수 부여.\n",
    "# 이미 생성된 단어장의 번호와 겹치지 않도록 단어장의 크기보다 1 큰 수로 번호 부여\n",
    "START_TOKEN, END_TOKEN = [tokenizer.vocab_size], [tokenizer.vocab_size + 1]\n",
    "\n",
    "# 시작 토큰과 종료 토큰을 고려하여 단어 집합의 크기를 + 2\n",
    "# 두개의 토큰 추가했기 때문에 단어장 크기도 +2\n",
    "VOCAB_SIZE = tokenizer.vocab_size + 2\n"
   ]
  },
  {
   "cell_type": "code",
   "execution_count": 79,
   "id": "16cc878a-b2a0-41cc-9e7d-b26d33175fdf",
   "metadata": {},
   "outputs": [
    {
     "name": "stdout",
     "output_type": "stream",
     "text": [
      "시작 토큰 번호 : [8088]\n",
      "종료 토큰 번호 : [8089]\n",
      "단어 집합의 크기 : 8090\n"
     ]
    }
   ],
   "source": [
    "print('시작 토큰 번호 :',START_TOKEN)\n",
    "print('종료 토큰 번호 :',END_TOKEN)\n",
    "print('단어 집합의 크기 :',VOCAB_SIZE)\n"
   ]
  },
  {
   "cell_type": "markdown",
   "id": "4ed02223-5271-4fb5-be0e-03cd3c8c50d5",
   "metadata": {},
   "source": [
    "### 정수 인코딩과 패딩 \n",
    "- 문장을 정수 시퀀스로 바꾸기\n"
   ]
  },
  {
   "cell_type": "code",
   "execution_count": 90,
   "id": "5c09eb66-980d-4f0e-b63d-9d676523149a",
   "metadata": {},
   "outputs": [],
   "source": [
    "# 최대 길이를 40으로 정의\n",
    "MAX_LENGTH = 40\n",
    "\n",
    "# 토큰화 / 정수 인코딩 / 시작 토큰과 종료 토큰 추가 / 패딩\n",
    "def tokenize_and_filter(inputs, outputs):\n",
    "  tokenized_inputs, tokenized_outputs = [], []\n",
    "\n",
    "  for (sentence1, sentence2) in zip(inputs, outputs):\n",
    "    # encode(토큰화 + 정수 인코딩), 시작 토큰과 종료 토큰 추가\n",
    "    sentence1 = START_TOKEN + tokenizer.encode(sentence1) + END_TOKEN\n",
    "    sentence2 = START_TOKEN + tokenizer.encode(sentence2) + END_TOKEN\n",
    "\n",
    "    tokenized_inputs.append(sentence1)\n",
    "    tokenized_outputs.append(sentence2)\n",
    "\n",
    "  # 패딩\n",
    "  tokenized_inputs = tf.keras.preprocessing.sequence.pad_sequences(\n",
    "      tokenized_inputs, maxlen=MAX_LENGTH, padding='post')\n",
    "  tokenized_outputs = tf.keras.preprocessing.sequence.pad_sequences(\n",
    "      tokenized_outputs, maxlen=MAX_LENGTH, padding='post')\n",
    "\n",
    "  return tokenized_inputs, tokenized_outputs\n"
   ]
  },
  {
   "cell_type": "code",
   "execution_count": 91,
   "id": "197eb913-c451-42f1-b6ff-6d64857887c0",
   "metadata": {},
   "outputs": [
    {
     "name": "stdout",
     "output_type": "stream",
     "text": [
      "단어장의 크기 : 8090\n",
      "필터링 후의 질문 샘플 개수: 4546\n",
      "필터링 후의 답변 샘플 개수: 4546\n"
     ]
    }
   ],
   "source": [
    "questions2, answers2 = tokenize_and_filter(questions, answers)\n",
    "print('단어장의 크기 :',(VOCAB_SIZE))\n",
    "print('필터링 후의 질문 샘플 개수: {}'.format(len(questions2)))\n",
    "print('필터링 후의 답변 샘플 개수: {}'.format(len(answers2)))"
   ]
  },
  {
   "cell_type": "code",
   "execution_count": 93,
   "id": "86ba1e9d-9248-4451-8dbf-dd516ad89881",
   "metadata": {},
   "outputs": [
    {
     "name": "stdout",
     "output_type": "stream",
     "text": [
      "[8088   55  354 1830  206  647   40  262    1 1503  225 1060  280  516\n",
      " 6867 7864 6177   10 1322 5411    5  485  529  130    6 8089    0    0\n",
      "    0    0    0    0    0    0    0    0    0    0    0    0]\n",
      "[8088  354 5411    5  288   31  132  658 3125  463  185  924  262    6\n",
      " 8089    0    0    0    0    0    0    0    0    0    0    0    0    0\n",
      "    0    0    0    0    0    0    0    0    0    0    0    0]\n"
     ]
    }
   ],
   "source": [
    "print(questions2[0])\n",
    "print(answers2[0])"
   ]
  },
  {
   "cell_type": "markdown",
   "id": "50799e7d-61d7-4d69-9ef5-e4151cb654c3",
   "metadata": {},
   "source": [
    "### 디코더의 입력과 실제값을 정의해주기 위해 교사 강요 실시"
   ]
  },
  {
   "cell_type": "code",
   "execution_count": 95,
   "id": "7e5ada30-2c30-4c2d-8655-a22c0f16346d",
   "metadata": {},
   "outputs": [],
   "source": [
    "# 텐서플로우 dataset을 이용하여 셔플(shuffle)을 수행하되, 배치 크기로 데이터를 묶는다.\n",
    "# 또한 이 과정에서 교사 강요(teacher forcing)을 사용하기 위해서 디코더의 입력과 실제값 시퀀스를 구성한다.\n",
    "BATCH_SIZE = 64\n",
    "BUFFER_SIZE = 20000\n",
    "\n",
    "# 디코더의 실제값 시퀀스에서는 시작 토큰을 제거해야 한다.\n",
    "dataset = tf.data.Dataset.from_tensor_slices((\n",
    "    {\n",
    "        'inputs': questions2,\n",
    "        'dec_inputs': answers2[:, :-1] # 디코더의 입력. 마지막 패딩 토큰이 제거된다.\n",
    "    },\n",
    "    {\n",
    "        'outputs': answers2[:, 1:]  # 맨 처음 토큰이 제거된다. 다시 말해 시작 토큰이 제거된다.\n",
    "    },\n",
    "))\n",
    "\n",
    "dataset = dataset.cache()\n",
    "dataset = dataset.shuffle(BUFFER_SIZE)\n",
    "dataset = dataset.batch(BATCH_SIZE)\n",
    "dataset = dataset.prefetch(tf.data.experimental.AUTOTUNE)\n"
   ]
  },
  {
   "cell_type": "markdown",
   "id": "7ea20ad2-c821-4d15-bec6-12c92fa57cfb",
   "metadata": {},
   "source": [
    "## 증강을 위한 데이터 재생성 "
   ]
  },
  {
   "cell_type": "code",
   "execution_count": 1,
   "id": "a17789bd-ac2a-4dc1-98bc-3b55b86c7b9b",
   "metadata": {},
   "outputs": [],
   "source": [
    "import pandas as pd"
   ]
  },
  {
   "cell_type": "code",
   "execution_count": 3,
   "id": "10bd78d3-573d-4e69-a7a4-73b1209a0934",
   "metadata": {},
   "outputs": [],
   "source": [
    "df=pd.read_csv('mind_conversation.csv')\n"
   ]
  },
  {
   "cell_type": "code",
   "execution_count": 4,
   "id": "5296cf7c-f338-4c5c-93cb-a42b83abc07c",
   "metadata": {},
   "outputs": [],
   "source": [
    "df.columns=['text','completion']"
   ]
  },
  {
   "cell_type": "code",
   "execution_count": 5,
   "id": "888e0f0e-2af4-467a-8ba9-8529b429c390",
   "metadata": {},
   "outputs": [
    {
     "data": {
      "text/html": [
       "<div>\n",
       "<style scoped>\n",
       "    .dataframe tbody tr th:only-of-type {\n",
       "        vertical-align: middle;\n",
       "    }\n",
       "\n",
       "    .dataframe tbody tr th {\n",
       "        vertical-align: top;\n",
       "    }\n",
       "\n",
       "    .dataframe thead th {\n",
       "        text-align: right;\n",
       "    }\n",
       "</style>\n",
       "<table border=\"1\" class=\"dataframe\">\n",
       "  <thead>\n",
       "    <tr style=\"text-align: right;\">\n",
       "      <th></th>\n",
       "      <th>text</th>\n",
       "      <th>completion</th>\n",
       "    </tr>\n",
       "  </thead>\n",
       "  <tbody>\n",
       "    <tr>\n",
       "      <th>0</th>\n",
       "      <td>제 감정이 이상해진 것 같아요. 남편만 보면 화가 치밀어 오르고 감정 조절이 안되요.</td>\n",
       "      <td>감정이 조절이 안 될 때만큼 힘들 때는 없는 거 같아요.</td>\n",
       "    </tr>\n",
       "    <tr>\n",
       "      <th>1</th>\n",
       "      <td>더 이상 내 감정을 내가 컨트롤 못 하겠어.</td>\n",
       "      <td>저도 그 기분 이해해요. 많이 힘드시죠?</td>\n",
       "    </tr>\n",
       "    <tr>\n",
       "      <th>2</th>\n",
       "      <td>하루종일 오르락내리락 롤러코스터 타는 기분이에요.</td>\n",
       "      <td>그럴 때는 밥은 잘 먹었는지, 잠은 잘 잤는지 체크해보는 것도 좋아요.</td>\n",
       "    </tr>\n",
       "    <tr>\n",
       "      <th>3</th>\n",
       "      <td>평소 다른 일을 할 때도 비슷해요. 생각한대로 안되면 화가 나고…그런 상황이 지속되...</td>\n",
       "      <td>화가 폭발할 것 같을 때는 그 자리를 피하는 것도 좋은 방법이라고 생각해요.</td>\n",
       "    </tr>\n",
       "    <tr>\n",
       "      <th>4</th>\n",
       "      <td>예전보다 화내는 게 과격해진 거 같아.</td>\n",
       "      <td>정말 힘드시겠어요. 화는 남에게도 스스로에게도 상처를 주잖아요.</td>\n",
       "    </tr>\n",
       "  </tbody>\n",
       "</table>\n",
       "</div>"
      ],
      "text/plain": [
       "                                                text  \\\n",
       "0    제 감정이 이상해진 것 같아요. 남편만 보면 화가 치밀어 오르고 감정 조절이 안되요.   \n",
       "1                           더 이상 내 감정을 내가 컨트롤 못 하겠어.   \n",
       "2                        하루종일 오르락내리락 롤러코스터 타는 기분이에요.   \n",
       "3  평소 다른 일을 할 때도 비슷해요. 생각한대로 안되면 화가 나고…그런 상황이 지속되...   \n",
       "4                              예전보다 화내는 게 과격해진 거 같아.   \n",
       "\n",
       "                                   completion  \n",
       "0             감정이 조절이 안 될 때만큼 힘들 때는 없는 거 같아요.  \n",
       "1                      저도 그 기분 이해해요. 많이 힘드시죠?  \n",
       "2     그럴 때는 밥은 잘 먹었는지, 잠은 잘 잤는지 체크해보는 것도 좋아요.  \n",
       "3  화가 폭발할 것 같을 때는 그 자리를 피하는 것도 좋은 방법이라고 생각해요.  \n",
       "4         정말 힘드시겠어요. 화는 남에게도 스스로에게도 상처를 주잖아요.  "
      ]
     },
     "execution_count": 5,
     "metadata": {},
     "output_type": "execute_result"
    }
   ],
   "source": [
    "df.head()"
   ]
  },
  {
   "cell_type": "code",
   "execution_count": 6,
   "id": "66bf598b-c8c9-42f7-9ada-604c2dec952a",
   "metadata": {},
   "outputs": [],
   "source": [
    "df.to_csv('data_augmentation.csv',index=False)"
   ]
  },
  {
   "cell_type": "code",
   "execution_count": 7,
   "id": "5cc91e28-7674-4243-99dd-36670efb3231",
   "metadata": {
    "scrolled": true
   },
   "outputs": [
    {
     "data": {
      "text/html": [
       "<div>\n",
       "<style scoped>\n",
       "    .dataframe tbody tr th:only-of-type {\n",
       "        vertical-align: middle;\n",
       "    }\n",
       "\n",
       "    .dataframe tbody tr th {\n",
       "        vertical-align: top;\n",
       "    }\n",
       "\n",
       "    .dataframe thead th {\n",
       "        text-align: right;\n",
       "    }\n",
       "</style>\n",
       "<table border=\"1\" class=\"dataframe\">\n",
       "  <thead>\n",
       "    <tr style=\"text-align: right;\">\n",
       "      <th></th>\n",
       "      <th>text</th>\n",
       "      <th>completion</th>\n",
       "    </tr>\n",
       "  </thead>\n",
       "  <tbody>\n",
       "    <tr>\n",
       "      <th>0</th>\n",
       "      <td>제 감정이 이상해진 것 같아요. 남편만 보면 화가 치밀어 오르고 감정 조절이 안되요.</td>\n",
       "      <td>감정이 조절이 안 될 때만큼 힘들 때는 없는 거 같아요.</td>\n",
       "    </tr>\n",
       "    <tr>\n",
       "      <th>1</th>\n",
       "      <td>더 이상 내 감정을 내가 컨트롤 못 하겠어.</td>\n",
       "      <td>저도 그 기분 이해해요. 많이 힘드시죠?</td>\n",
       "    </tr>\n",
       "    <tr>\n",
       "      <th>2</th>\n",
       "      <td>하루종일 오르락내리락 롤러코스터 타는 기분이에요.</td>\n",
       "      <td>그럴 때는 밥은 잘 먹었는지, 잠은 잘 잤는지 체크해보는 것도 좋아요.</td>\n",
       "    </tr>\n",
       "    <tr>\n",
       "      <th>3</th>\n",
       "      <td>평소 다른 일을 할 때도 비슷해요. 생각한대로 안되면 화가 나고…그런 상황이 지속되...</td>\n",
       "      <td>화가 폭발할 것 같을 때는 그 자리를 피하는 것도 좋은 방법이라고 생각해요.</td>\n",
       "    </tr>\n",
       "    <tr>\n",
       "      <th>4</th>\n",
       "      <td>예전보다 화내는 게 과격해진 거 같아.</td>\n",
       "      <td>정말 힘드시겠어요. 화는 남에게도 스스로에게도 상처를 주잖아요.</td>\n",
       "    </tr>\n",
       "    <tr>\n",
       "      <th>...</th>\n",
       "      <td>...</td>\n",
       "      <td>...</td>\n",
       "    </tr>\n",
       "    <tr>\n",
       "      <th>4541</th>\n",
       "      <td>내 손자의 계모는 벌로써 그를 핑크색 바비 배낭을 메고 학교에 보내고 있다.</td>\n",
       "      <td>절대 아닙니다! 굴욕을 처벌로 사용하는 것은 절대 아이의 이익에 부합하지 않습니다....</td>\n",
       "    </tr>\n",
       "    <tr>\n",
       "      <th>4542</th>\n",
       "      <td>내 남자친구는 마약 중독에서 회복 중입니다. 최근에 싸움을 했고 그는 매우 거리를 ...</td>\n",
       "      <td>당신과 남자친구 사이에 긴장이 있어서 유감입니다. 관계는 두 사람이 서로 연결되는 ...</td>\n",
       "    </tr>\n",
       "    <tr>\n",
       "      <th>4543</th>\n",
       "      <td>출생모는 임신 중 여러 번 자살을 시도했습니다. 양모는 아기를 입양할 때 시한부 판...</td>\n",
       "      <td>진정한 대답은 \"확실히 말할 수 있는 사람은 아무도 없다\"는 것입니다. 변수는 이 ...</td>\n",
       "    </tr>\n",
       "    <tr>\n",
       "      <th>4544</th>\n",
       "      <td>저는 성인 생활이 그를 우울하게 만들고 있으며, 우리는 주말에 종종 오후 1시나 2...</td>\n",
       "      <td>그가 제공하는 것보다 더 많은 것이 필요하다고 자신을 어떻게 설득하나요? 이 관계에...</td>\n",
       "    </tr>\n",
       "    <tr>\n",
       "      <th>4545</th>\n",
       "      <td>저는 방금 집에서 멀리 떨어진 곳으로 자주 여행을 가야 하는 일을 구했습니다. 저와...</td>\n",
       "      <td>음, 이건 어려운 문제네요!</td>\n",
       "    </tr>\n",
       "  </tbody>\n",
       "</table>\n",
       "<p>4546 rows × 2 columns</p>\n",
       "</div>"
      ],
      "text/plain": [
       "                                                   text  \\\n",
       "0       제 감정이 이상해진 것 같아요. 남편만 보면 화가 치밀어 오르고 감정 조절이 안되요.   \n",
       "1                              더 이상 내 감정을 내가 컨트롤 못 하겠어.   \n",
       "2                           하루종일 오르락내리락 롤러코스터 타는 기분이에요.   \n",
       "3     평소 다른 일을 할 때도 비슷해요. 생각한대로 안되면 화가 나고…그런 상황이 지속되...   \n",
       "4                                 예전보다 화내는 게 과격해진 거 같아.   \n",
       "...                                                 ...   \n",
       "4541         내 손자의 계모는 벌로써 그를 핑크색 바비 배낭을 메고 학교에 보내고 있다.   \n",
       "4542  내 남자친구는 마약 중독에서 회복 중입니다. 최근에 싸움을 했고 그는 매우 거리를 ...   \n",
       "4543  출생모는 임신 중 여러 번 자살을 시도했습니다. 양모는 아기를 입양할 때 시한부 판...   \n",
       "4544  저는 성인 생활이 그를 우울하게 만들고 있으며, 우리는 주말에 종종 오후 1시나 2...   \n",
       "4545  저는 방금 집에서 멀리 떨어진 곳으로 자주 여행을 가야 하는 일을 구했습니다. 저와...   \n",
       "\n",
       "                                             completion  \n",
       "0                       감정이 조절이 안 될 때만큼 힘들 때는 없는 거 같아요.  \n",
       "1                                저도 그 기분 이해해요. 많이 힘드시죠?  \n",
       "2               그럴 때는 밥은 잘 먹었는지, 잠은 잘 잤는지 체크해보는 것도 좋아요.  \n",
       "3            화가 폭발할 것 같을 때는 그 자리를 피하는 것도 좋은 방법이라고 생각해요.  \n",
       "4                   정말 힘드시겠어요. 화는 남에게도 스스로에게도 상처를 주잖아요.  \n",
       "...                                                 ...  \n",
       "4541  절대 아닙니다! 굴욕을 처벌로 사용하는 것은 절대 아이의 이익에 부합하지 않습니다....  \n",
       "4542  당신과 남자친구 사이에 긴장이 있어서 유감입니다. 관계는 두 사람이 서로 연결되는 ...  \n",
       "4543  진정한 대답은 \"확실히 말할 수 있는 사람은 아무도 없다\"는 것입니다. 변수는 이 ...  \n",
       "4544  그가 제공하는 것보다 더 많은 것이 필요하다고 자신을 어떻게 설득하나요? 이 관계에...  \n",
       "4545                                    음, 이건 어려운 문제네요!  \n",
       "\n",
       "[4546 rows x 2 columns]"
      ]
     },
     "execution_count": 7,
     "metadata": {},
     "output_type": "execute_result"
    }
   ],
   "source": [
    "pd.read_csv('data_augmentation.csv')"
   ]
  },
  {
   "cell_type": "code",
   "execution_count": null,
   "id": "97b1c673-3674-4479-9f9e-6c8d1b09c873",
   "metadata": {},
   "outputs": [],
   "source": []
  }
 ],
 "metadata": {
  "kernelspec": {
   "display_name": "kmy_env",
   "language": "python",
   "name": "kmy"
  },
  "language_info": {
   "codemirror_mode": {
    "name": "ipython",
    "version": 3
   },
   "file_extension": ".py",
   "mimetype": "text/x-python",
   "name": "python",
   "nbconvert_exporter": "python",
   "pygments_lexer": "ipython3",
   "version": "3.11.5"
  }
 },
 "nbformat": 4,
 "nbformat_minor": 5
}
